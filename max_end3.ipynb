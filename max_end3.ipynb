{
 "cells": [
  {
   "cell_type": "markdown",
   "id": "d5139b07",
   "metadata": {},
   "source": [
    "# List-1 > max_end3"
   ]
  },
  {
   "cell_type": "markdown",
   "id": "a9e3fede",
   "metadata": {},
   "source": [
    "\n",
    "Given an array of ints length 3, figure out which is larger, the first or last element in the array, and set all the other elements to be that value. Return the changed array.\n",
    "\n",
    "\n",
    "max_end3([1, 2, 3]) → [3, 3, 3]\n",
    "\n",
    "max_end3([11, 5, 9]) → [11, 11, 11]\n",
    "\n",
    "max_end3([2, 11, 3]) → [3, 3, 3]"
   ]
  },
  {
   "cell_type": "code",
   "execution_count": null,
   "id": "a596f7d6",
   "metadata": {},
   "outputs": [],
   "source": [
    "def max_end3(nums):\n",
    "  largest = 0\n",
    "  new_array = []\n",
    "  \n",
    "  if nums[0]>nums[-1]:\n",
    "    largest = nums[0]\n",
    "  else:\n",
    "    largest = nums[-1]\n",
    "    \n",
    "  for num in nums:\n",
    "    new_array.append(largest)\n",
    "  \n",
    "  return new_array\n"
   ]
  }
 ],
 "metadata": {
  "kernelspec": {
   "display_name": "Python 3 (ipykernel)",
   "language": "python",
   "name": "python3"
  },
  "language_info": {
   "codemirror_mode": {
    "name": "ipython",
    "version": 3
   },
   "file_extension": ".py",
   "mimetype": "text/x-python",
   "name": "python",
   "nbconvert_exporter": "python",
   "pygments_lexer": "ipython3",
   "version": "3.9.12"
  }
 },
 "nbformat": 4,
 "nbformat_minor": 5
}
